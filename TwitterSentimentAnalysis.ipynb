{
 "cells": [
  {
   "cell_type": "code",
   "execution_count": 68,
   "id": "f1b08f03",
   "metadata": {},
   "outputs": [],
   "source": [
    "import numpy as np\n",
    "import pandas as pd\n",
    "from sklearn.metrics import confusion_matrix,classification_report\n",
    "from sklearn.metrics import accuracy_score\n",
    "import seaborn as sn"
   ]
  },
  {
   "cell_type": "code",
   "execution_count": 83,
   "id": "67f8dcf2",
   "metadata": {},
   "outputs": [
    {
     "name": "stdout",
     "output_type": "stream",
     "text": [
      "Collecting xgboost\n",
      "  Downloading xgboost-1.7.6-py3-none-macosx_10_15_x86_64.macosx_11_0_x86_64.macosx_12_0_x86_64.whl (1.8 MB)\n",
      "\u001b[K     |████████████████████████████████| 1.8 MB 2.1 MB/s eta 0:00:01\n",
      "\u001b[?25hRequirement already satisfied: numpy in /opt/anaconda3/lib/python3.9/site-packages (from xgboost) (1.21.5)\n",
      "Requirement already satisfied: scipy in /opt/anaconda3/lib/python3.9/site-packages (from xgboost) (1.7.3)\n",
      "Installing collected packages: xgboost\n",
      "Successfully installed xgboost-1.7.6\n",
      "Note: you may need to restart the kernel to use updated packages.\n"
     ]
    }
   ],
   "source": [
    "pip install xgboost"
   ]
  },
  {
   "cell_type": "code",
   "execution_count": 32,
   "id": "bcd91c78",
   "metadata": {},
   "outputs": [],
   "source": [
    "#Importing test and train data\n",
    "train = pd.read_csv('train.csv')\n",
    "test = pd.read_csv('test.csv')"
   ]
  },
  {
   "cell_type": "code",
   "execution_count": 33,
   "id": "5b044dbc",
   "metadata": {},
   "outputs": [
    {
     "data": {
      "text/html": [
       "<div>\n",
       "<style scoped>\n",
       "    .dataframe tbody tr th:only-of-type {\n",
       "        vertical-align: middle;\n",
       "    }\n",
       "\n",
       "    .dataframe tbody tr th {\n",
       "        vertical-align: top;\n",
       "    }\n",
       "\n",
       "    .dataframe thead th {\n",
       "        text-align: right;\n",
       "    }\n",
       "</style>\n",
       "<table border=\"1\" class=\"dataframe\">\n",
       "  <thead>\n",
       "    <tr style=\"text-align: right;\">\n",
       "      <th></th>\n",
       "      <th>id</th>\n",
       "      <th>label</th>\n",
       "      <th>tweet</th>\n",
       "    </tr>\n",
       "  </thead>\n",
       "  <tbody>\n",
       "    <tr>\n",
       "      <th>0</th>\n",
       "      <td>1</td>\n",
       "      <td>0</td>\n",
       "      <td>@user when a father is dysfunctional and is s...</td>\n",
       "    </tr>\n",
       "    <tr>\n",
       "      <th>1</th>\n",
       "      <td>2</td>\n",
       "      <td>0</td>\n",
       "      <td>@user @user thanks for #lyft credit i can't us...</td>\n",
       "    </tr>\n",
       "    <tr>\n",
       "      <th>2</th>\n",
       "      <td>3</td>\n",
       "      <td>0</td>\n",
       "      <td>bihday your majesty</td>\n",
       "    </tr>\n",
       "    <tr>\n",
       "      <th>3</th>\n",
       "      <td>4</td>\n",
       "      <td>0</td>\n",
       "      <td>#model   i love u take with u all the time in ...</td>\n",
       "    </tr>\n",
       "    <tr>\n",
       "      <th>4</th>\n",
       "      <td>5</td>\n",
       "      <td>0</td>\n",
       "      <td>factsguide: society now    #motivation</td>\n",
       "    </tr>\n",
       "  </tbody>\n",
       "</table>\n",
       "</div>"
      ],
      "text/plain": [
       "   id  label                                              tweet\n",
       "0   1      0   @user when a father is dysfunctional and is s...\n",
       "1   2      0  @user @user thanks for #lyft credit i can't us...\n",
       "2   3      0                                bihday your majesty\n",
       "3   4      0  #model   i love u take with u all the time in ...\n",
       "4   5      0             factsguide: society now    #motivation"
      ]
     },
     "execution_count": 33,
     "metadata": {},
     "output_type": "execute_result"
    }
   ],
   "source": [
    "train.head()"
   ]
  },
  {
   "cell_type": "code",
   "execution_count": 34,
   "id": "9e57ead1",
   "metadata": {},
   "outputs": [
    {
     "data": {
      "text/plain": [
       "(31962, 3)"
      ]
     },
     "execution_count": 34,
     "metadata": {},
     "output_type": "execute_result"
    }
   ],
   "source": [
    "train.shape"
   ]
  },
  {
   "cell_type": "code",
   "execution_count": 35,
   "id": "d43232e7",
   "metadata": {},
   "outputs": [
    {
     "data": {
      "text/plain": [
       "Index(['id', 'label', 'tweet'], dtype='object')"
      ]
     },
     "execution_count": 35,
     "metadata": {},
     "output_type": "execute_result"
    }
   ],
   "source": [
    "train.columns"
   ]
  },
  {
   "cell_type": "markdown",
   "id": "5315b108",
   "metadata": {},
   "source": [
    "# **Removing hashtags**"
   ]
  },
  {
   "cell_type": "code",
   "execution_count": 36,
   "id": "0c64895f",
   "metadata": {},
   "outputs": [],
   "source": [
    "def punc(df):\n",
    "    df['tweet'] = df['tweet'].str.replace('[#]','')\n",
    "    print(df)"
   ]
  },
  {
   "cell_type": "code",
   "execution_count": 37,
   "id": "3b63ae78",
   "metadata": {},
   "outputs": [
    {
     "name": "stdout",
     "output_type": "stream",
     "text": [
      "          id  label                                              tweet\n",
      "0          1      0   @user when a father is dysfunctional and is s...\n",
      "1          2      0  @user @user thanks for lyft credit i can't use...\n",
      "2          3      0                                bihday your majesty\n",
      "3          4      0  model   i love u take with u all the time in u...\n",
      "4          5      0              factsguide: society now    motivation\n",
      "...      ...    ...                                                ...\n",
      "31957  31958      0  ate @user isz that youuu?ðððððð...\n",
      "31958  31959      0    to see nina turner on the airwaves trying to...\n",
      "31959  31960      0  listening to sad songs on a monday morning otw...\n",
      "31960  31961      1  @user sikh temple vandalised in in calgary, ws...\n",
      "31961  31962      0                   thank you @user for you follow  \n",
      "\n",
      "[31962 rows x 3 columns]\n",
      "          id                                              tweet\n",
      "0      31963  studiolife aislife requires passion dedication...\n",
      "1      31964   @user white supremacists want everyone to see...\n",
      "2      31965  safe ways to heal your acne!!    altwaystoheal...\n",
      "3      31966  is the hp and the cursed child book up for res...\n",
      "4      31967    3rd bihday to my amazing, hilarious nephew e...\n",
      "...      ...                                                ...\n",
      "17192  49155  thought factory: left-right polarisation! trum...\n",
      "17193  49156  feeling like a mermaid ð hairflip neverread...\n",
      "17194  49157  hillary campaigned today in ohio((omg)) &amp; ...\n",
      "17195  49158  happy, at work conference: right mindset leads...\n",
      "17196  49159  my   song \"so glad\" free download!  shoegaze n...\n",
      "\n",
      "[17197 rows x 2 columns]\n"
     ]
    },
    {
     "name": "stderr",
     "output_type": "stream",
     "text": [
      "/var/folders/dh/271ppfxd5rl8y5zk7k2k9gcc0000gn/T/ipykernel_8031/2434197307.py:2: FutureWarning: The default value of regex will change from True to False in a future version.\n",
      "  df['tweet'] = df['tweet'].str.replace('[#]','')\n",
      "/var/folders/dh/271ppfxd5rl8y5zk7k2k9gcc0000gn/T/ipykernel_8031/2434197307.py:2: FutureWarning: The default value of regex will change from True to False in a future version.\n",
      "  df['tweet'] = df['tweet'].str.replace('[#]','')\n"
     ]
    }
   ],
   "source": [
    "punc(train)\n",
    "punc(test)"
   ]
  },
  {
   "cell_type": "markdown",
   "id": "d36a5ca2",
   "metadata": {},
   "source": [
    "# Tokenizing"
   ]
  },
  {
   "cell_type": "code",
   "execution_count": 38,
   "id": "5fec578e",
   "metadata": {},
   "outputs": [],
   "source": [
    "import nltk\n",
    "from nltk.tokenize import TweetTokenizer\n",
    "def tokenizer(df):\n",
    "    tknzr = TweetTokenizer(strip_handles=True)\n",
    "    df['tweet']= df['tweet'].apply(lambda x: tknzr.tokenize(x))\n",
    "    print(df)\n",
    "    "
   ]
  },
  {
   "cell_type": "code",
   "execution_count": 39,
   "id": "f3123df4",
   "metadata": {},
   "outputs": [
    {
     "name": "stdout",
     "output_type": "stream",
     "text": [
      "          id  label                                              tweet\n",
      "0          1      0  [when, a, father, is, dysfunctional, and, is, ...\n",
      "1          2      0  [thanks, for, lyft, credit, i, can't, use, cau...\n",
      "2          3      0                            [bihday, your, majesty]\n",
      "3          4      0  [model, i, love, u, take, with, u, all, the, t...\n",
      "4          5      0          [factsguide, :, society, now, motivation]\n",
      "...      ...    ...                                                ...\n",
      "31957  31958      0  [ate, isz, that, youuu, ?, ð, , , , ð, , ...\n",
      "31958  31959      0  [to, see, nina, turner, on, the, airwaves, try...\n",
      "31959  31960      0  [listening, to, sad, songs, on, a, monday, mor...\n",
      "31960  31961      1  [sikh, temple, vandalised, in, in, calgary, ,,...\n",
      "31961  31962      0                     [thank, you, for, you, follow]\n",
      "\n",
      "[31962 rows x 3 columns]\n",
      "          id                                              tweet\n",
      "0      31963  [studiolife, aislife, requires, passion, dedic...\n",
      "1      31964  [white, supremacists, want, everyone, to, see,...\n",
      "2      31965  [safe, ways, to, heal, your, acne, !, !, altwa...\n",
      "3      31966  [is, the, hp, and, the, cursed, child, book, u...\n",
      "4      31967  [3rd, bihday, to, my, amazing, ,, hilarious, n...\n",
      "...      ...                                                ...\n",
      "17192  49155  [thought, factory, :, left-right, polarisation...\n",
      "17193  49156  [feeling, like, a, mermaid, ð, , , , hairfl...\n",
      "17194  49157  [hillary, campaigned, today, in, ohio, (, (, o...\n",
      "17195  49158  [happy, ,, at, work, conference, :, right, min...\n",
      "17196  49159  [my, song, \", so, glad, \", free, download, !, ...\n",
      "\n",
      "[17197 rows x 2 columns]\n"
     ]
    }
   ],
   "source": [
    "tokenizer(train)\n",
    "tokenizer(test)"
   ]
  },
  {
   "cell_type": "markdown",
   "id": "07d9fbc8",
   "metadata": {},
   "source": [
    "# Removing Stopwords"
   ]
  },
  {
   "cell_type": "code",
   "execution_count": 40,
   "id": "4f0d32ae",
   "metadata": {},
   "outputs": [],
   "source": [
    "import nltk\n",
    "from nltk.corpus import stopwords\n",
    "stop=stopwords.words(\"english\")\n",
    "def stop_words(df):\n",
    "    df['tweet']=df['tweet'].apply(lambda x: [i.lower() for i in x if i not in stop])\n",
    "    print(df)"
   ]
  },
  {
   "cell_type": "code",
   "execution_count": 41,
   "id": "cd8ead37",
   "metadata": {},
   "outputs": [
    {
     "name": "stdout",
     "output_type": "stream",
     "text": [
      "          id  label                                              tweet\n",
      "0          1      0  [father, dysfunctional, selfish, drags, kids, ...\n",
      "1          2      0  [thanks, lyft, credit, can't, use, cause, offe...\n",
      "2          3      0                                  [bihday, majesty]\n",
      "3          4      0  [model, love, u, take, u, time, urð, , , ±, ...\n",
      "4          5      0               [factsguide, :, society, motivation]\n",
      "...      ...    ...                                                ...\n",
      "31957  31958      0  [ate, isz, youuu, ?, ð, , , , ð, , , , ð...\n",
      "31958  31959      0  [see, nina, turner, airwaves, trying, wrap, ma...\n",
      "31959  31960      0  [listening, sad, songs, monday, morning, otw, ...\n",
      "31960  31961      1  [sikh, temple, vandalised, calgary, ,, wso, co...\n",
      "31961  31962      0                                    [thank, follow]\n",
      "\n",
      "[31962 rows x 3 columns]\n",
      "          id                                              tweet\n",
      "0      31963  [studiolife, aislife, requires, passion, dedic...\n",
      "1      31964  [white, supremacists, want, everyone, see, new...\n",
      "2      31965  [safe, ways, heal, acne, !, !, altwaystoheal, ...\n",
      "3      31966  [hp, cursed, child, book, reservations, alread...\n",
      "4      31967  [3rd, bihday, amazing, ,, hilarious, nephew, e...\n",
      "...      ...                                                ...\n",
      "17192  49155  [thought, factory, :, left-right, polarisation...\n",
      "17193  49156  [feeling, like, mermaid, ð, , , , hairflip,...\n",
      "17194  49157  [hillary, campaigned, today, ohio, (, (, omg, ...\n",
      "17195  49158  [happy, ,, work, conference, :, right, mindset...\n",
      "17196  49159  [song, \", glad, \", free, download, !, shoegaze...\n",
      "\n",
      "[17197 rows x 2 columns]\n"
     ]
    }
   ],
   "source": [
    "stop_words(train)\n",
    "stop_words(test)"
   ]
  },
  {
   "cell_type": "markdown",
   "id": "d1bb53a1",
   "metadata": {},
   "source": [
    "### Removing Punctuations and Words of length less than 3"
   ]
  },
  {
   "cell_type": "code",
   "execution_count": 42,
   "id": "0f45a7ce",
   "metadata": {},
   "outputs": [],
   "source": [
    "import re\n",
    "def clean_punc_len(df):\n",
    "    df['tweet']=df['tweet'].apply(lambda x: [i for i in x if not re.match('[^\\w\\s]',i) and len(i)>3])"
   ]
  },
  {
   "cell_type": "code",
   "execution_count": 43,
   "id": "e891bdaa",
   "metadata": {},
   "outputs": [],
   "source": [
    "clean_punc_len(train)\n",
    "clean_punc_len(test)"
   ]
  },
  {
   "cell_type": "markdown",
   "id": "bc2c99ed",
   "metadata": {},
   "source": [
    "# Stemming"
   ]
  },
  {
   "cell_type": "code",
   "execution_count": 46,
   "id": "24812113",
   "metadata": {},
   "outputs": [
    {
     "name": "stderr",
     "output_type": "stream",
     "text": [
      "[nltk_data] Downloading package wordnet to\n",
      "[nltk_data]     /Users/ishaansachdeva/nltk_data...\n"
     ]
    },
    {
     "data": {
      "text/plain": [
       "True"
      ]
     },
     "execution_count": 46,
     "metadata": {},
     "output_type": "execute_result"
    }
   ],
   "source": [
    "nltk.download('wordnet')"
   ]
  },
  {
   "cell_type": "code",
   "execution_count": 47,
   "id": "23920e44",
   "metadata": {},
   "outputs": [],
   "source": [
    "from nltk.stem import PorterStemmer\n",
    "from textblob import Word\n",
    "st = PorterStemmer()\n",
    "def stemnlemm(df):\n",
    "    df['tweet']=df['tweet'].apply(lambda x: [Word(st.stem(i)).lemmatize() for i in x])\n",
    "    print(df)"
   ]
  },
  {
   "cell_type": "code",
   "execution_count": 48,
   "id": "784a57ba",
   "metadata": {},
   "outputs": [
    {
     "name": "stdout",
     "output_type": "stream",
     "text": [
      "          id  label                                              tweet\n",
      "0          1      0   [father, dysfunct, selfish, drag, kid, dysfunct]\n",
      "1          2      0  [thank, lyft, credit, can't, caus, offer, whee...\n",
      "2          3      0                                  [bihday, majesti]\n",
      "3          4      0                          [model, love, take, time]\n",
      "4          5      0                        [factsguid, societi, motiv]\n",
      "...      ...    ...                                                ...\n",
      "31957  31958      0                                            [youuu]\n",
      "31958  31959      0  [nina, turner, airwav, tri, wrap, mantl, genui...\n",
      "31959  31960      0                 [listen, song, monday, morn, work]\n",
      "31960  31961      1          [sikh, templ, vandalis, calgari, condemn]\n",
      "31961  31962      0                                    [thank, follow]\n",
      "\n",
      "[31962 rows x 3 columns]\n",
      "          id                                              tweet\n",
      "0      31963  [studiolif, aislif, requir, passion, dedic, wi...\n",
      "1      31964  [white, supremacist, want, everyon, birdsâ, mo...\n",
      "2      31965  [safe, way, heal, acn, altwaystoh, healthi, heal]\n",
      "3      31966  [cur, child, book, reserv, alreadi, harrypott,...\n",
      "4      31967  [bihday, amaz, hilari, nephew, ahmir, uncl, da...\n",
      "...      ...                                                ...\n",
      "17192  49155  [thought, factori, left-right, polaris, trump,...\n",
      "17193  49156  [feel, like, mermaid, hairflip, neverreadi, fo...\n",
      "17194  49157  [hillari, campaign, today, ohio, use, word, li...\n",
      "17195  49158  [happi, work, confer, right, mindset, lead, cu...\n",
      "17196  49159  [song, glad, free, download, shoegaz, newmus, ...\n",
      "\n",
      "[17197 rows x 2 columns]\n"
     ]
    }
   ],
   "source": [
    "stemnlemm(train)\n",
    "stemnlemm(test)"
   ]
  },
  {
   "cell_type": "markdown",
   "id": "d5dd4b8a",
   "metadata": {},
   "source": [
    "# Vectorizing"
   ]
  },
  {
   "cell_type": "code",
   "execution_count": 49,
   "id": "7333fe6b",
   "metadata": {},
   "outputs": [],
   "source": [
    "from sklearn.feature_extraction.text import CountVectorizer\n",
    "cv = CountVectorizer(max_features=1500, analyzer='word', lowercase=False) "
   ]
  },
  {
   "cell_type": "code",
   "execution_count": 50,
   "id": "8c73a67f",
   "metadata": {},
   "outputs": [],
   "source": [
    "train['tweet']=train['tweet'].apply(lambda x: \" \".join(x) )\n",
    "test['tweet']=test['tweet'].apply(lambda x: \" \".join(x) )\n",
    "\n",
    "X_train = cv.fit_transform(train['tweet'])"
   ]
  },
  {
   "cell_type": "code",
   "execution_count": 56,
   "id": "b9646838",
   "metadata": {},
   "outputs": [
    {
     "name": "stdout",
     "output_type": "stream",
     "text": [
      "  (0, 465)\t1\n",
      "  (0, 721)\t1\n",
      "  (1, 1331)\t1\n",
      "  (1, 198)\t1\n",
      "  (1, 212)\t1\n",
      "  (1, 922)\t1\n",
      "  (2, 132)\t1\n",
      "  (3, 865)\t1\n",
      "  (3, 797)\t1\n",
      "  (3, 1305)\t1\n",
      "  (3, 1350)\t1\n",
      "  (4, 1220)\t1\n",
      "  (4, 874)\t1\n",
      "  (5, 650)\t1\n",
      "  (5, 1308)\t1\n",
      "  (5, 755)\t1\n",
      "  (6, 196)\t1\n",
      "  (6, 1358)\t1\n",
      "  (7, 198)\t1\n",
      "  (7, 904)\t1\n",
      "  (7, 1144)\t2\n",
      "  (7, 1491)\t2\n",
      "  (7, 433)\t2\n",
      "  (7, 1340)\t1\n",
      "  (7, 609)\t1\n",
      "  :\t:\n",
      "  (31955, 1444)\t1\n",
      "  (31955, 748)\t1\n",
      "  (31956, 1350)\t1\n",
      "  (31956, 1358)\t1\n",
      "  (31956, 1491)\t1\n",
      "  (31956, 1422)\t1\n",
      "  (31956, 489)\t1\n",
      "  (31956, 490)\t1\n",
      "  (31958, 773)\t1\n",
      "  (31958, 1177)\t1\n",
      "  (31958, 1378)\t1\n",
      "  (31958, 628)\t1\n",
      "  (31958, 546)\t1\n",
      "  (31959, 867)\t1\n",
      "  (31959, 872)\t1\n",
      "  (31959, 1475)\t1\n",
      "  (31959, 1226)\t1\n",
      "  (31959, 778)\t1\n",
      "  (31960, 281)\t1\n",
      "  (31960, 1321)\t1\n",
      "  (31960, 1194)\t1\n",
      "  (31960, 1407)\t1\n",
      "  (31960, 191)\t1\n",
      "  (31961, 1331)\t1\n",
      "  (31961, 502)\t1\n"
     ]
    }
   ],
   "source": [
    "print(X_train)"
   ]
  },
  {
   "cell_type": "code",
   "execution_count": 53,
   "id": "d84039b5",
   "metadata": {},
   "outputs": [
    {
     "data": {
      "text/html": [
       "<div>\n",
       "<style scoped>\n",
       "    .dataframe tbody tr th:only-of-type {\n",
       "        vertical-align: middle;\n",
       "    }\n",
       "\n",
       "    .dataframe tbody tr th {\n",
       "        vertical-align: top;\n",
       "    }\n",
       "\n",
       "    .dataframe thead th {\n",
       "        text-align: right;\n",
       "    }\n",
       "</style>\n",
       "<table border=\"1\" class=\"dataframe\">\n",
       "  <thead>\n",
       "    <tr style=\"text-align: right;\">\n",
       "      <th></th>\n",
       "      <th>label</th>\n",
       "    </tr>\n",
       "  </thead>\n",
       "  <tbody>\n",
       "    <tr>\n",
       "      <th>0</th>\n",
       "      <td>0</td>\n",
       "    </tr>\n",
       "    <tr>\n",
       "      <th>1</th>\n",
       "      <td>0</td>\n",
       "    </tr>\n",
       "    <tr>\n",
       "      <th>2</th>\n",
       "      <td>0</td>\n",
       "    </tr>\n",
       "    <tr>\n",
       "      <th>3</th>\n",
       "      <td>0</td>\n",
       "    </tr>\n",
       "    <tr>\n",
       "      <th>4</th>\n",
       "      <td>0</td>\n",
       "    </tr>\n",
       "  </tbody>\n",
       "</table>\n",
       "</div>"
      ],
      "text/plain": [
       "   label\n",
       "0      0\n",
       "1      0\n",
       "2      0\n",
       "3      0\n",
       "4      0"
      ]
     },
     "execution_count": 53,
     "metadata": {},
     "output_type": "execute_result"
    }
   ],
   "source": [
    "Y_train=pd.DataFrame(train['label'])\n",
    "Y_train.head()"
   ]
  },
  {
   "cell_type": "markdown",
   "id": "b888a4ac",
   "metadata": {},
   "source": [
    "### Testing and Training Split"
   ]
  },
  {
   "cell_type": "code",
   "execution_count": 57,
   "id": "db3cbd81",
   "metadata": {},
   "outputs": [],
   "source": [
    "from sklearn.model_selection import train_test_split\n",
    "x_train, x_test, y_train, y_test = train_test_split(X_train, Y_train, test_size=0.3)"
   ]
  },
  {
   "cell_type": "markdown",
   "id": "3e01a354",
   "metadata": {},
   "source": [
    "# Naive Bayes Classifier"
   ]
  },
  {
   "cell_type": "code",
   "execution_count": 58,
   "id": "74e30d11",
   "metadata": {},
   "outputs": [
    {
     "name": "stderr",
     "output_type": "stream",
     "text": [
      "/opt/anaconda3/lib/python3.9/site-packages/sklearn/utils/validation.py:993: DataConversionWarning: A column-vector y was passed when a 1d array was expected. Please change the shape of y to (n_samples, ), for example using ravel().\n",
      "  y = column_or_1d(y, warn=True)\n"
     ]
    }
   ],
   "source": [
    "from sklearn.naive_bayes import MultinomialNB\n",
    "z=MultinomialNB()\n",
    "z.fit(x_train,y_train)\n",
    "\n",
    "pred=z.predict(x_test)"
   ]
  },
  {
   "cell_type": "code",
   "execution_count": 70,
   "id": "a4721732",
   "metadata": {},
   "outputs": [
    {
     "name": "stdout",
     "output_type": "stream",
     "text": [
      "[[8705  184]\n",
      " [ 281  419]]\n",
      "The Accurracy score for Naive Bayes Classifier is:  0.9515069350297215\n"
     ]
    },
    {
     "data": {
      "image/png": "[encoded data removed]",
      "text/plain": [
       "<Figure size 432x288 with 2 Axes>"
      ]
     },
     "metadata": {
      "needs_background": "light"
     },
     "output_type": "display_data"
    }
   ],
   "source": [
    "cm=confusion_matrix(y_test,pred)\n",
    "sn.heatmap(cm)\n",
    "print(cm)\n",
    "score = accuracy_score( y_test, pred)\n",
    "print('The Accurracy score for Naive Bayes Classifier is: ',score)\n"
   ]
  },
  {
   "cell_type": "markdown",
   "id": "790ec83a",
   "metadata": {},
   "source": [
    "# K-neighbor Classifier"
   ]
  },
  {
   "cell_type": "code",
   "execution_count": 62,
   "id": "17c827b8",
   "metadata": {},
   "outputs": [
    {
     "name": "stderr",
     "output_type": "stream",
     "text": [
      "/opt/anaconda3/lib/python3.9/site-packages/sklearn/neighbors/_classification.py:198: DataConversionWarning: A column-vector y was passed when a 1d array was expected. Please change the shape of y to (n_samples,), for example using ravel().\n",
      "  return self._fit(X, y)\n"
     ]
    }
   ],
   "source": [
    "from sklearn.neighbors import KNeighborsClassifier\n",
    "classifier = KNeighborsClassifier(n_neighbors=5, metric='minkowski', p=2)\n",
    "classifier.fit(x_train, y_train)\n",
    "\n",
    "#predicting test results\n",
    "pred = classifier.predict(x_test)"
   ]
  },
  {
   "cell_type": "code",
   "execution_count": 72,
   "id": "29b534b8",
   "metadata": {},
   "outputs": [
    {
     "name": "stdout",
     "output_type": "stream",
     "text": [
      "[[8705  184]\n",
      " [ 281  419]]\n",
      "The Accurracy score for K-Neighbors Classifier is: 0.9515069350297215\n"
     ]
    },
    {
     "data": {
      "image/png": "[encoded data removed]",
      "text/plain": [
       "<Figure size 432x288 with 2 Axes>"
      ]
     },
     "metadata": {
      "needs_background": "light"
     },
     "output_type": "display_data"
    }
   ],
   "source": [
    "cm=confusion_matrix(y_test,pred)\n",
    "print(cm)\n",
    "sn.heatmap(cm)\n",
    "score = accuracy_score( y_test, pred)\n",
    "print('The Accurracy score for K-Neighbors Classifier is:',score)"
   ]
  },
  {
   "cell_type": "markdown",
   "id": "c6daefc5",
   "metadata": {},
   "source": [
    "# Random Forest Classifier"
   ]
  },
  {
   "cell_type": "code",
   "execution_count": 67,
   "id": "679de7a0",
   "metadata": {},
   "outputs": [
    {
     "name": "stderr",
     "output_type": "stream",
     "text": [
      "/var/folders/dh/271ppfxd5rl8y5zk7k2k9gcc0000gn/T/ipykernel_8031/3779070556.py:3: DataConversionWarning: A column-vector y was passed when a 1d array was expected. Please change the shape of y to (n_samples,), for example using ravel().\n",
      "  classifier.fit(x_train, y_train)\n"
     ]
    }
   ],
   "source": [
    "from sklearn.ensemble import RandomForestClassifier\n",
    "classifier = RandomForestClassifier( n_estimators=100 ,criterion='entropy', random_state=0)\n",
    "classifier.fit(x_train, y_train)\n",
    "\n",
    "#predicting test results\n",
    "pred = classifier.predict(x_test)"
   ]
  },
  {
   "cell_type": "code",
   "execution_count": 75,
   "id": "92009440",
   "metadata": {},
   "outputs": [
    {
     "name": "stdout",
     "output_type": "stream",
     "text": [
      "[[8705  184]\n",
      " [ 281  419]]\n",
      "Accuracy Score for Random Forest Classifier is: 0.9515069350297215\n"
     ]
    },
    {
     "data": {
      "image/png": "[encoded data removed]",
      "text/plain": [
       "<Figure size 432x288 with 2 Axes>"
      ]
     },
     "metadata": {
      "needs_background": "light"
     },
     "output_type": "display_data"
    }
   ],
   "source": [
    "cm=confusion_matrix(y_test,pred)\n",
    "print(cm)\n",
    "sn.heatmap(cm)\n",
    "score = accuracy_score( y_test, pred)\n",
    "print('Accuracy Score for Random Forest Classifier is:',score)\n"
   ]
  },
  {
   "cell_type": "markdown",
   "id": "92dad4ef",
   "metadata": {},
   "source": [
    "# Logistic Regression Classifier"
   ]
  },
  {
   "cell_type": "code",
   "execution_count": 76,
   "id": "a2c2c923",
   "metadata": {},
   "outputs": [
    {
     "name": "stderr",
     "output_type": "stream",
     "text": [
      "/opt/anaconda3/lib/python3.9/site-packages/sklearn/utils/validation.py:993: DataConversionWarning: A column-vector y was passed when a 1d array was expected. Please change the shape of y to (n_samples, ), for example using ravel().\n",
      "  y = column_or_1d(y, warn=True)\n"
     ]
    }
   ],
   "source": [
    "from sklearn.linear_model import LogisticRegression\n",
    "classifier = LogisticRegression(random_state = 0)\n",
    "classifier.fit(x_train, y_train)\n",
    "\n",
    "#predicting test results\n",
    "y_pred = classifier.predict(x_test)"
   ]
  },
  {
   "cell_type": "code",
   "execution_count": 80,
   "id": "a15f72dc",
   "metadata": {},
   "outputs": [
    {
     "name": "stdout",
     "output_type": "stream",
     "text": [
      "[[8705  184]\n",
      " [ 281  419]]\n",
      "Accuracy score for Logistic Regression Classifier is:  0.9515069350297215\n"
     ]
    }
   ],
   "source": [
    "cm=confusion_matrix(y_test,pred)\n",
    "print(cm)\n",
    "score = accuracy_score( y_test, pred)\n",
    "print('Accuracy score for Logistic Regression Classifier is: ',score)"
   ]
  },
  {
   "cell_type": "markdown",
   "id": "9980cfe4",
   "metadata": {},
   "source": [
    "# XG Boost Classifier"
   ]
  },
  {
   "cell_type": "code",
   "execution_count": 84,
   "id": "947a9749",
   "metadata": {},
   "outputs": [],
   "source": [
    "from xgboost import XGBClassifier\n",
    "model = XGBClassifier()\n",
    "model.fit(x_train, y_train)\n",
    "y_pred = model.predict(x_test)"
   ]
  },
  {
   "cell_type": "code",
   "execution_count": 85,
   "id": "af67129d",
   "metadata": {},
   "outputs": [
    {
     "name": "stdout",
     "output_type": "stream",
     "text": [
      "[[8847   42]\n",
      " [ 426  274]]\n",
      "Accuracy score for XGBoost Classifer is: 0.9511940765460424\n"
     ]
    }
   ],
   "source": [
    "cm=confusion_matrix(y_test,y_pred)\n",
    "print(cm)\n",
    "score = accuracy_score( y_test, y_pred)\n",
    "print('Accuracy score for XGBoost Classifer is:',score)"
   ]
  },
  {
   "cell_type": "markdown",
   "id": "97631711",
   "metadata": {},
   "source": [
    "# Support Vector Machine Classifier"
   ]
  },
  {
   "cell_type": "code",
   "execution_count": 86,
   "id": "4df9ea04",
   "metadata": {},
   "outputs": [
    {
     "name": "stderr",
     "output_type": "stream",
     "text": [
      "/opt/anaconda3/lib/python3.9/site-packages/sklearn/utils/validation.py:993: DataConversionWarning: A column-vector y was passed when a 1d array was expected. Please change the shape of y to (n_samples, ), for example using ravel().\n",
      "  y = column_or_1d(y, warn=True)\n"
     ]
    }
   ],
   "source": [
    "from sklearn.svm import SVC\n",
    "classifier= SVC(kernel='rbf',random_state=0)\n",
    "classifier.fit(x_train,y_train)\n",
    "y_pred = classifier.predict(x_test)"
   ]
  },
  {
   "cell_type": "code",
   "execution_count": 89,
   "id": "3379c78f",
   "metadata": {},
   "outputs": [
    {
     "name": "stdout",
     "output_type": "stream",
     "text": [
      "[[8869   20]\n",
      " [ 441  259]]\n",
      "Accuracy score for SVM Classifier is: 0.9519240796746272\n"
     ]
    },
    {
     "data": {
      "text/plain": [
       "<AxesSubplot:>"
      ]
     },
     "execution_count": 89,
     "metadata": {},
     "output_type": "execute_result"
    },
    {
     "data": {
      "image/png": "[encoded data removed]",
      "text/plain": [
       "<Figure size 432x288 with 2 Axes>"
      ]
     },
     "metadata": {
      "needs_background": "light"
     },
     "output_type": "display_data"
    }
   ],
   "source": [
    "cm=confusion_matrix(y_test,y_pred)\n",
    "print(cm)\n",
    "score = accuracy_score( y_test, y_pred)\n",
    "print('Accuracy score for SVM Classifier is:',score)\n",
    "sn.heatmap(cm)"
   ]
  }
 ],
 "metadata": {
  "kernelspec": {
   "display_name": "Python 3 (ipykernel)",
   "language": "python",
   "name": "python3"
  },
  "language_info": {
   "codemirror_mode": {
    "name": "ipython",
    "version": 3
   },
   "file_extension": ".py",
   "mimetype": "text/x-python",
   "name": "python",
   "nbconvert_exporter": "python",
   "pygments_lexer": "ipython3",
   "version": "3.9.12"
  }
 },
 "nbformat": 4,
 "nbformat_minor": 5
}
